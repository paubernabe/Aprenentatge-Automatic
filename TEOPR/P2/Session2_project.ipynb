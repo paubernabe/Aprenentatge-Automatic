{
 "cells": [
  {
   "cell_type": "markdown",
   "metadata": {},
   "source": [
    "# Session 2 -  End-to-end Machine Learning project\n"
   ]
  },
  {
   "cell_type": "code",
   "execution_count": 1,
   "metadata": {},
   "outputs": [
    {
     "data": {
      "text/html": [
       "<style>.container { width:100% !important; }</style>"
      ],
      "text/plain": [
       "<IPython.core.display.HTML object>"
      ]
     },
     "metadata": {},
     "output_type": "display_data"
    }
   ],
   "source": [
    "# some imports\n",
    "\n",
    "from IPython.core.display import display, HTML\n",
    "display(HTML(\"<style>.container { width:100% !important; }</style>\"))\n",
    "\n",
    "# Python ≥3.5 is required\n",
    "import sys\n",
    "assert sys.version_info >= (3, 5)\n",
    "\n",
    "# Scikit-Learn ≥0.20 is required\n",
    "import sklearn\n",
    "assert sklearn.__version__ >= \"0.20\"\n",
    "\n",
    "# Common imports\n",
    "import numpy as np\n",
    "import os\n",
    "\n",
    "# to make this notebook's output stable across runs\n",
    "np.random.seed(42)\n",
    "\n",
    "# To plot pretty figures\n",
    "%matplotlib inline\n",
    "import matplotlib as mpl\n",
    "import matplotlib.pyplot as plt\n",
    "mpl.rc('axes', labelsize=14)\n",
    "mpl.rc('xtick', labelsize=12)\n",
    "mpl.rc('ytick', labelsize=12)\n",
    "plt.rc('font', size=12) \n",
    "plt.rc('figure', figsize = (12, 5))\n",
    "\n",
    "# Settings for the visualizations\n",
    "import seaborn as sns\n",
    "sns.set_style(\"whitegrid\")\n",
    "sns.set_context(\"notebook\", font_scale=1, rc={\"lines.linewidth\": 2,'font.family': [u'times']})\n",
    "\n",
    "import pandas as pd\n",
    "pd.set_option('display.max_rows', 25)\n",
    "pd.set_option('display.max_columns', 500)\n",
    "pd.set_option('display.max_colwidth', 50)\n",
    "\n",
    "# Ignore useless warnings (see SciPy issue #5998)\n",
    "import warnings\n",
    "warnings.filterwarnings(action=\"ignore\", message=\"^internal gelsd\")\n",
    "\n",
    "# create output folder\n",
    "if not os.path.exists('output'):\n",
    "    os.makedirs('output')\n",
    "if not os.path.exists('output/session1'):\n",
    "    os.makedirs('output/session1')"
   ]
  },
  {
   "cell_type": "code",
   "execution_count": 2,
   "metadata": {},
   "outputs": [],
   "source": [
    "from sklearn.model_selection import train_test_split\n",
    "\n",
    "train_set = pd.read_csv('./dataset/train_set.csv',index_col=0) \n",
    "test_set = pd.read_csv('./dataset/test_set.csv',index_col=0)\n",
    "#train_set, test_set = train_test_split(housing_data, test_size=0.2, random_state=42)"
   ]
  },
  {
   "cell_type": "markdown",
   "metadata": {},
   "source": [
    "## The problem\n",
    "The machine learning is to predict the house price, but before that it is imporntat to study the dataset and its features"
   ]
  },
  {
   "cell_type": "code",
   "execution_count": 3,
   "metadata": {},
   "outputs": [
    {
     "name": "stdout",
     "output_type": "stream",
     "text": [
      "There is 5432 samples\n",
      "Each sample has 21 features\n"
     ]
    }
   ],
   "source": [
    "# print the dataset size\n",
    "print(\"There is\", train_set.shape[0], \"samples\")\n",
    "print(\"Each sample has\", train_set.shape[1], \"features\")"
   ]
  },
  {
   "cell_type": "code",
   "execution_count": 4,
   "metadata": {},
   "outputs": [
    {
     "data": {
      "text/html": [
       "<div>\n",
       "<style scoped>\n",
       "    .dataframe tbody tr th:only-of-type {\n",
       "        vertical-align: middle;\n",
       "    }\n",
       "\n",
       "    .dataframe tbody tr th {\n",
       "        vertical-align: top;\n",
       "    }\n",
       "\n",
       "    .dataframe thead th {\n",
       "        text-align: right;\n",
       "    }\n",
       "</style>\n",
       "<table border=\"1\" class=\"dataframe\">\n",
       "  <thead>\n",
       "    <tr style=\"text-align: right;\">\n",
       "      <th></th>\n",
       "      <th>Suburb</th>\n",
       "      <th>Address</th>\n",
       "      <th>Rooms</th>\n",
       "      <th>Type</th>\n",
       "      <th>Price</th>\n",
       "      <th>Method</th>\n",
       "      <th>SellerG</th>\n",
       "      <th>Date</th>\n",
       "      <th>Distance</th>\n",
       "      <th>Postcode</th>\n",
       "      <th>Bedroom2</th>\n",
       "      <th>Bathroom</th>\n",
       "      <th>Car</th>\n",
       "      <th>Landsize</th>\n",
       "      <th>BuildingArea</th>\n",
       "      <th>YearBuilt</th>\n",
       "      <th>CouncilArea</th>\n",
       "      <th>Lattitude</th>\n",
       "      <th>Longtitude</th>\n",
       "      <th>Regionname</th>\n",
       "      <th>Propertycount</th>\n",
       "    </tr>\n",
       "    <tr>\n",
       "      <th>index</th>\n",
       "      <th></th>\n",
       "      <th></th>\n",
       "      <th></th>\n",
       "      <th></th>\n",
       "      <th></th>\n",
       "      <th></th>\n",
       "      <th></th>\n",
       "      <th></th>\n",
       "      <th></th>\n",
       "      <th></th>\n",
       "      <th></th>\n",
       "      <th></th>\n",
       "      <th></th>\n",
       "      <th></th>\n",
       "      <th></th>\n",
       "      <th></th>\n",
       "      <th></th>\n",
       "      <th></th>\n",
       "      <th></th>\n",
       "      <th></th>\n",
       "      <th></th>\n",
       "    </tr>\n",
       "  </thead>\n",
       "  <tbody>\n",
       "    <tr>\n",
       "      <th>0</th>\n",
       "      <td>Aberfeldie</td>\n",
       "      <td>241 Buckley St</td>\n",
       "      <td>4</td>\n",
       "      <td>h</td>\n",
       "      <td>1380000.0</td>\n",
       "      <td>VB</td>\n",
       "      <td>Nelson</td>\n",
       "      <td>12/08/2017</td>\n",
       "      <td>7.5</td>\n",
       "      <td>3040.0</td>\n",
       "      <td>4.0</td>\n",
       "      <td>2.0</td>\n",
       "      <td>2.0</td>\n",
       "      <td>766.0</td>\n",
       "      <td>NaN</td>\n",
       "      <td>NaN</td>\n",
       "      <td>Moonee Valley</td>\n",
       "      <td>-37.75595</td>\n",
       "      <td>144.90551</td>\n",
       "      <td>Western Metropolitan</td>\n",
       "      <td>1543.0</td>\n",
       "    </tr>\n",
       "    <tr>\n",
       "      <th>1</th>\n",
       "      <td>Northcote</td>\n",
       "      <td>67 Charles St</td>\n",
       "      <td>2</td>\n",
       "      <td>h</td>\n",
       "      <td>1100000.0</td>\n",
       "      <td>SP</td>\n",
       "      <td>Jellis</td>\n",
       "      <td>20/05/2017</td>\n",
       "      <td>5.5</td>\n",
       "      <td>3070.0</td>\n",
       "      <td>2.0</td>\n",
       "      <td>1.0</td>\n",
       "      <td>1.0</td>\n",
       "      <td>189.0</td>\n",
       "      <td>NaN</td>\n",
       "      <td>NaN</td>\n",
       "      <td>Darebin</td>\n",
       "      <td>-37.77670</td>\n",
       "      <td>144.99240</td>\n",
       "      <td>Northern Metropolitan</td>\n",
       "      <td>11364.0</td>\n",
       "    </tr>\n",
       "    <tr>\n",
       "      <th>2</th>\n",
       "      <td>Balwyn North</td>\n",
       "      <td>42 Maud St</td>\n",
       "      <td>3</td>\n",
       "      <td>h</td>\n",
       "      <td>1480000.0</td>\n",
       "      <td>PI</td>\n",
       "      <td>Jellis</td>\n",
       "      <td>15/10/2016</td>\n",
       "      <td>9.2</td>\n",
       "      <td>3104.0</td>\n",
       "      <td>3.0</td>\n",
       "      <td>1.0</td>\n",
       "      <td>4.0</td>\n",
       "      <td>605.0</td>\n",
       "      <td>116.0</td>\n",
       "      <td>1950.0</td>\n",
       "      <td>Boroondara</td>\n",
       "      <td>-37.79510</td>\n",
       "      <td>145.06960</td>\n",
       "      <td>Southern Metropolitan</td>\n",
       "      <td>7809.0</td>\n",
       "    </tr>\n",
       "    <tr>\n",
       "      <th>3</th>\n",
       "      <td>Brunswick</td>\n",
       "      <td>13 Percy St</td>\n",
       "      <td>3</td>\n",
       "      <td>h</td>\n",
       "      <td>1055000.0</td>\n",
       "      <td>S</td>\n",
       "      <td>Nelson</td>\n",
       "      <td>7/05/2016</td>\n",
       "      <td>5.2</td>\n",
       "      <td>3056.0</td>\n",
       "      <td>3.0</td>\n",
       "      <td>1.0</td>\n",
       "      <td>1.0</td>\n",
       "      <td>324.0</td>\n",
       "      <td>NaN</td>\n",
       "      <td>1930.0</td>\n",
       "      <td>Moreland</td>\n",
       "      <td>-37.76530</td>\n",
       "      <td>144.95860</td>\n",
       "      <td>Northern Metropolitan</td>\n",
       "      <td>11918.0</td>\n",
       "    </tr>\n",
       "    <tr>\n",
       "      <th>4</th>\n",
       "      <td>Templestowe Lower</td>\n",
       "      <td>253 Thompsons Rd</td>\n",
       "      <td>4</td>\n",
       "      <td>h</td>\n",
       "      <td>1000000.0</td>\n",
       "      <td>VB</td>\n",
       "      <td>hockingstuart</td>\n",
       "      <td>13/08/2016</td>\n",
       "      <td>13.8</td>\n",
       "      <td>3107.0</td>\n",
       "      <td>4.0</td>\n",
       "      <td>3.0</td>\n",
       "      <td>2.0</td>\n",
       "      <td>728.0</td>\n",
       "      <td>164.0</td>\n",
       "      <td>1970.0</td>\n",
       "      <td>Manningham</td>\n",
       "      <td>-37.76800</td>\n",
       "      <td>145.10270</td>\n",
       "      <td>Eastern Metropolitan</td>\n",
       "      <td>5420.0</td>\n",
       "    </tr>\n",
       "    <tr>\n",
       "      <th>...</th>\n",
       "      <td>...</td>\n",
       "      <td>...</td>\n",
       "      <td>...</td>\n",
       "      <td>...</td>\n",
       "      <td>...</td>\n",
       "      <td>...</td>\n",
       "      <td>...</td>\n",
       "      <td>...</td>\n",
       "      <td>...</td>\n",
       "      <td>...</td>\n",
       "      <td>...</td>\n",
       "      <td>...</td>\n",
       "      <td>...</td>\n",
       "      <td>...</td>\n",
       "      <td>...</td>\n",
       "      <td>...</td>\n",
       "      <td>...</td>\n",
       "      <td>...</td>\n",
       "      <td>...</td>\n",
       "      <td>...</td>\n",
       "      <td>...</td>\n",
       "    </tr>\n",
       "    <tr>\n",
       "      <th>5427</th>\n",
       "      <td>Reservoir</td>\n",
       "      <td>30 Kinsale St</td>\n",
       "      <td>3</td>\n",
       "      <td>h</td>\n",
       "      <td>851500.0</td>\n",
       "      <td>S</td>\n",
       "      <td>Nelson</td>\n",
       "      <td>22/08/2016</td>\n",
       "      <td>11.2</td>\n",
       "      <td>3073.0</td>\n",
       "      <td>3.0</td>\n",
       "      <td>1.0</td>\n",
       "      <td>1.0</td>\n",
       "      <td>0.0</td>\n",
       "      <td>NaN</td>\n",
       "      <td>1930.0</td>\n",
       "      <td>Darebin</td>\n",
       "      <td>-37.72170</td>\n",
       "      <td>144.99540</td>\n",
       "      <td>Northern Metropolitan</td>\n",
       "      <td>21650.0</td>\n",
       "    </tr>\n",
       "    <tr>\n",
       "      <th>5428</th>\n",
       "      <td>Fitzroy North</td>\n",
       "      <td>134 Clauscen St</td>\n",
       "      <td>2</td>\n",
       "      <td>h</td>\n",
       "      <td>1400000.0</td>\n",
       "      <td>S</td>\n",
       "      <td>Nelson</td>\n",
       "      <td>26/08/2017</td>\n",
       "      <td>3.6</td>\n",
       "      <td>3068.0</td>\n",
       "      <td>2.0</td>\n",
       "      <td>1.0</td>\n",
       "      <td>1.0</td>\n",
       "      <td>164.0</td>\n",
       "      <td>93.0</td>\n",
       "      <td>1890.0</td>\n",
       "      <td>NaN</td>\n",
       "      <td>-37.77796</td>\n",
       "      <td>144.98374</td>\n",
       "      <td>Northern Metropolitan</td>\n",
       "      <td>6244.0</td>\n",
       "    </tr>\n",
       "    <tr>\n",
       "      <th>5429</th>\n",
       "      <td>Richmond</td>\n",
       "      <td>23a Dickmann St</td>\n",
       "      <td>3</td>\n",
       "      <td>t</td>\n",
       "      <td>975000.0</td>\n",
       "      <td>PI</td>\n",
       "      <td>Jellis</td>\n",
       "      <td>22/08/2016</td>\n",
       "      <td>2.6</td>\n",
       "      <td>3121.0</td>\n",
       "      <td>3.0</td>\n",
       "      <td>1.0</td>\n",
       "      <td>1.0</td>\n",
       "      <td>383.0</td>\n",
       "      <td>NaN</td>\n",
       "      <td>1993.0</td>\n",
       "      <td>Yarra</td>\n",
       "      <td>-37.82480</td>\n",
       "      <td>144.99760</td>\n",
       "      <td>Northern Metropolitan</td>\n",
       "      <td>14949.0</td>\n",
       "    </tr>\n",
       "    <tr>\n",
       "      <th>5430</th>\n",
       "      <td>Bentleigh East</td>\n",
       "      <td>21 Highview Rd</td>\n",
       "      <td>2</td>\n",
       "      <td>h</td>\n",
       "      <td>722000.0</td>\n",
       "      <td>S</td>\n",
       "      <td>Buxton</td>\n",
       "      <td>16/04/2016</td>\n",
       "      <td>13.9</td>\n",
       "      <td>3165.0</td>\n",
       "      <td>2.0</td>\n",
       "      <td>2.0</td>\n",
       "      <td>1.0</td>\n",
       "      <td>201.0</td>\n",
       "      <td>79.0</td>\n",
       "      <td>2005.0</td>\n",
       "      <td>Glen Eira</td>\n",
       "      <td>-37.92930</td>\n",
       "      <td>145.06570</td>\n",
       "      <td>Southern Metropolitan</td>\n",
       "      <td>10969.0</td>\n",
       "    </tr>\n",
       "    <tr>\n",
       "      <th>5431</th>\n",
       "      <td>West Footscray</td>\n",
       "      <td>31 Napoleon St</td>\n",
       "      <td>3</td>\n",
       "      <td>h</td>\n",
       "      <td>860000.0</td>\n",
       "      <td>S</td>\n",
       "      <td>Biggin</td>\n",
       "      <td>26/07/2016</td>\n",
       "      <td>8.2</td>\n",
       "      <td>3012.0</td>\n",
       "      <td>3.0</td>\n",
       "      <td>1.0</td>\n",
       "      <td>2.0</td>\n",
       "      <td>501.0</td>\n",
       "      <td>147.0</td>\n",
       "      <td>1960.0</td>\n",
       "      <td>Maribyrnong</td>\n",
       "      <td>-37.79120</td>\n",
       "      <td>144.86800</td>\n",
       "      <td>Western Metropolitan</td>\n",
       "      <td>5058.0</td>\n",
       "    </tr>\n",
       "  </tbody>\n",
       "</table>\n",
       "<p>5432 rows × 21 columns</p>\n",
       "</div>"
      ],
      "text/plain": [
       "                  Suburb           Address  Rooms Type      Price Method  \\\n",
       "index                                                                      \n",
       "0             Aberfeldie    241 Buckley St      4    h  1380000.0     VB   \n",
       "1              Northcote     67 Charles St      2    h  1100000.0     SP   \n",
       "2           Balwyn North        42 Maud St      3    h  1480000.0     PI   \n",
       "3              Brunswick       13 Percy St      3    h  1055000.0      S   \n",
       "4      Templestowe Lower  253 Thompsons Rd      4    h  1000000.0     VB   \n",
       "...                  ...               ...    ...  ...        ...    ...   \n",
       "5427           Reservoir     30 Kinsale St      3    h   851500.0      S   \n",
       "5428       Fitzroy North   134 Clauscen St      2    h  1400000.0      S   \n",
       "5429            Richmond   23a Dickmann St      3    t   975000.0     PI   \n",
       "5430      Bentleigh East    21 Highview Rd      2    h   722000.0      S   \n",
       "5431      West Footscray    31 Napoleon St      3    h   860000.0      S   \n",
       "\n",
       "             SellerG        Date  Distance  Postcode  Bedroom2  Bathroom  Car  \\\n",
       "index                                                                           \n",
       "0             Nelson  12/08/2017       7.5    3040.0       4.0       2.0  2.0   \n",
       "1             Jellis  20/05/2017       5.5    3070.0       2.0       1.0  1.0   \n",
       "2             Jellis  15/10/2016       9.2    3104.0       3.0       1.0  4.0   \n",
       "3             Nelson   7/05/2016       5.2    3056.0       3.0       1.0  1.0   \n",
       "4      hockingstuart  13/08/2016      13.8    3107.0       4.0       3.0  2.0   \n",
       "...              ...         ...       ...       ...       ...       ...  ...   \n",
       "5427          Nelson  22/08/2016      11.2    3073.0       3.0       1.0  1.0   \n",
       "5428          Nelson  26/08/2017       3.6    3068.0       2.0       1.0  1.0   \n",
       "5429          Jellis  22/08/2016       2.6    3121.0       3.0       1.0  1.0   \n",
       "5430          Buxton  16/04/2016      13.9    3165.0       2.0       2.0  1.0   \n",
       "5431          Biggin  26/07/2016       8.2    3012.0       3.0       1.0  2.0   \n",
       "\n",
       "       Landsize  BuildingArea  YearBuilt    CouncilArea  Lattitude  \\\n",
       "index                                                                \n",
       "0         766.0           NaN        NaN  Moonee Valley  -37.75595   \n",
       "1         189.0           NaN        NaN        Darebin  -37.77670   \n",
       "2         605.0         116.0     1950.0     Boroondara  -37.79510   \n",
       "3         324.0           NaN     1930.0       Moreland  -37.76530   \n",
       "4         728.0         164.0     1970.0     Manningham  -37.76800   \n",
       "...         ...           ...        ...            ...        ...   \n",
       "5427        0.0           NaN     1930.0        Darebin  -37.72170   \n",
       "5428      164.0          93.0     1890.0            NaN  -37.77796   \n",
       "5429      383.0           NaN     1993.0          Yarra  -37.82480   \n",
       "5430      201.0          79.0     2005.0      Glen Eira  -37.92930   \n",
       "5431      501.0         147.0     1960.0    Maribyrnong  -37.79120   \n",
       "\n",
       "       Longtitude             Regionname  Propertycount  \n",
       "index                                                    \n",
       "0       144.90551   Western Metropolitan         1543.0  \n",
       "1       144.99240  Northern Metropolitan        11364.0  \n",
       "2       145.06960  Southern Metropolitan         7809.0  \n",
       "3       144.95860  Northern Metropolitan        11918.0  \n",
       "4       145.10270   Eastern Metropolitan         5420.0  \n",
       "...           ...                    ...            ...  \n",
       "5427    144.99540  Northern Metropolitan        21650.0  \n",
       "5428    144.98374  Northern Metropolitan         6244.0  \n",
       "5429    144.99760  Northern Metropolitan        14949.0  \n",
       "5430    145.06570  Southern Metropolitan        10969.0  \n",
       "5431    144.86800   Western Metropolitan         5058.0  \n",
       "\n",
       "[5432 rows x 21 columns]"
      ]
     },
     "execution_count": 4,
     "metadata": {},
     "output_type": "execute_result"
    }
   ],
   "source": [
    "# print the top elements from the dataset\n",
    "train_set"
   ]
  },
  {
   "cell_type": "code",
   "execution_count": 5,
   "metadata": {},
   "outputs": [],
   "source": [
    "# As it can be seen the database contains several features, some of them numerical and some of them are categorical.\n",
    "# It is important to check each of the to understand it."
   ]
  },
  {
   "cell_type": "code",
   "execution_count": 6,
   "metadata": {
    "scrolled": false
   },
   "outputs": [
    {
     "data": {
      "text/plain": [
       "Suburb            object\n",
       "Address           object\n",
       "Rooms              int64\n",
       "Type              object\n",
       "Price            float64\n",
       "Method            object\n",
       "SellerG           object\n",
       "Date              object\n",
       "Distance         float64\n",
       "Postcode         float64\n",
       "Bedroom2         float64\n",
       "Bathroom         float64\n",
       "Car              float64\n",
       "Landsize         float64\n",
       "BuildingArea     float64\n",
       "YearBuilt        float64\n",
       "CouncilArea       object\n",
       "Lattitude        float64\n",
       "Longtitude       float64\n",
       "Regionname        object\n",
       "Propertycount    float64\n",
       "dtype: object"
      ]
     },
     "execution_count": 6,
     "metadata": {},
     "output_type": "execute_result"
    }
   ],
   "source": [
    "# we can see the type of each features as follows\n",
    "train_set.dtypes"
   ]
  },
  {
   "cell_type": "code",
   "execution_count": 7,
   "metadata": {},
   "outputs": [
    {
     "data": {
      "text/html": [
       "<div>\n",
       "<style scoped>\n",
       "    .dataframe tbody tr th:only-of-type {\n",
       "        vertical-align: middle;\n",
       "    }\n",
       "\n",
       "    .dataframe tbody tr th {\n",
       "        vertical-align: top;\n",
       "    }\n",
       "\n",
       "    .dataframe thead th {\n",
       "        text-align: right;\n",
       "    }\n",
       "</style>\n",
       "<table border=\"1\" class=\"dataframe\">\n",
       "  <thead>\n",
       "    <tr style=\"text-align: right;\">\n",
       "      <th></th>\n",
       "      <th>Suburb</th>\n",
       "      <th>Address</th>\n",
       "      <th>Type</th>\n",
       "      <th>Method</th>\n",
       "      <th>SellerG</th>\n",
       "      <th>Date</th>\n",
       "      <th>CouncilArea</th>\n",
       "      <th>Regionname</th>\n",
       "    </tr>\n",
       "    <tr>\n",
       "      <th>index</th>\n",
       "      <th></th>\n",
       "      <th></th>\n",
       "      <th></th>\n",
       "      <th></th>\n",
       "      <th></th>\n",
       "      <th></th>\n",
       "      <th></th>\n",
       "      <th></th>\n",
       "    </tr>\n",
       "  </thead>\n",
       "  <tbody>\n",
       "    <tr>\n",
       "      <th>0</th>\n",
       "      <td>Aberfeldie</td>\n",
       "      <td>241 Buckley St</td>\n",
       "      <td>h</td>\n",
       "      <td>VB</td>\n",
       "      <td>Nelson</td>\n",
       "      <td>12/08/2017</td>\n",
       "      <td>Moonee Valley</td>\n",
       "      <td>Western Metropolitan</td>\n",
       "    </tr>\n",
       "    <tr>\n",
       "      <th>1</th>\n",
       "      <td>Northcote</td>\n",
       "      <td>67 Charles St</td>\n",
       "      <td>h</td>\n",
       "      <td>SP</td>\n",
       "      <td>Jellis</td>\n",
       "      <td>20/05/2017</td>\n",
       "      <td>Darebin</td>\n",
       "      <td>Northern Metropolitan</td>\n",
       "    </tr>\n",
       "    <tr>\n",
       "      <th>2</th>\n",
       "      <td>Balwyn North</td>\n",
       "      <td>42 Maud St</td>\n",
       "      <td>h</td>\n",
       "      <td>PI</td>\n",
       "      <td>Jellis</td>\n",
       "      <td>15/10/2016</td>\n",
       "      <td>Boroondara</td>\n",
       "      <td>Southern Metropolitan</td>\n",
       "    </tr>\n",
       "    <tr>\n",
       "      <th>3</th>\n",
       "      <td>Brunswick</td>\n",
       "      <td>13 Percy St</td>\n",
       "      <td>h</td>\n",
       "      <td>S</td>\n",
       "      <td>Nelson</td>\n",
       "      <td>7/05/2016</td>\n",
       "      <td>Moreland</td>\n",
       "      <td>Northern Metropolitan</td>\n",
       "    </tr>\n",
       "    <tr>\n",
       "      <th>4</th>\n",
       "      <td>Templestowe Lower</td>\n",
       "      <td>253 Thompsons Rd</td>\n",
       "      <td>h</td>\n",
       "      <td>VB</td>\n",
       "      <td>hockingstuart</td>\n",
       "      <td>13/08/2016</td>\n",
       "      <td>Manningham</td>\n",
       "      <td>Eastern Metropolitan</td>\n",
       "    </tr>\n",
       "  </tbody>\n",
       "</table>\n",
       "</div>"
      ],
      "text/plain": [
       "                  Suburb           Address Type Method        SellerG  \\\n",
       "index                                                                   \n",
       "0             Aberfeldie    241 Buckley St    h     VB         Nelson   \n",
       "1              Northcote     67 Charles St    h     SP         Jellis   \n",
       "2           Balwyn North        42 Maud St    h     PI         Jellis   \n",
       "3              Brunswick       13 Percy St    h      S         Nelson   \n",
       "4      Templestowe Lower  253 Thompsons Rd    h     VB  hockingstuart   \n",
       "\n",
       "             Date    CouncilArea             Regionname  \n",
       "index                                                    \n",
       "0      12/08/2017  Moonee Valley   Western Metropolitan  \n",
       "1      20/05/2017        Darebin  Northern Metropolitan  \n",
       "2      15/10/2016     Boroondara  Southern Metropolitan  \n",
       "3       7/05/2016       Moreland  Northern Metropolitan  \n",
       "4      13/08/2016     Manningham   Eastern Metropolitan  "
      ]
     },
     "execution_count": 7,
     "metadata": {},
     "output_type": "execute_result"
    }
   ],
   "source": [
    "# print those categorical features\n",
    "train_set.select_dtypes(include=['object']).head()"
   ]
  },
  {
   "cell_type": "code",
   "execution_count": 8,
   "metadata": {},
   "outputs": [
    {
     "data": {
      "text/plain": [
       "h    3765\n",
       "u    1191\n",
       "t     476\n",
       "Name: Type, dtype: int64"
      ]
     },
     "execution_count": 8,
     "metadata": {},
     "output_type": "execute_result"
    }
   ],
   "source": [
    "# We can check how many different type there is in the dataset using the folliwing line\n",
    "train_set[\"Type\"].value_counts()"
   ]
  },
  {
   "cell_type": "code",
   "execution_count": 9,
   "metadata": {},
   "outputs": [
    {
     "data": {
      "text/plain": [
       "<matplotlib.axes._subplots.AxesSubplot at 0x7fd644204580>"
      ]
     },
     "execution_count": 9,
     "metadata": {},
     "output_type": "execute_result"
    },
    {
     "data": {
      "image/png": "[encoded data removed]",
      "text/plain": [
       "<Figure size 864x360 with 1 Axes>"
      ]
     },
     "metadata": {},
     "output_type": "display_data"
    }
   ],
   "source": [
    "sns.countplot(y=\"Type\", data=train_set, color=\"c\")"
   ]
  },
  {
   "cell_type": "markdown",
   "metadata": {},
   "source": [
    "It would be interesting to visualize all features (numerical and catergorical) in order to undertand them.\n",
    "\n",
    "Check out this blog for plotting distribution: https://seaborn.pydata.org/tutorial/distributions.html\n",
    "+ Seaborn version of this blog can be different from the one intalled in your machine (version 0.11 has been just realeased)\n",
    "\n",
    "Check out this blog for plotting categorical data: https://seaborn.pydata.org/tutorial/categorical.html"
   ]
  },
  {
   "cell_type": "code",
   "execution_count": 10,
   "metadata": {},
   "outputs": [
    {
     "data": {
      "image/png": "[encoded data removed]",
      "text/plain": [
       "<Figure size 864x360 with 1 Axes>"
      ]
     },
     "metadata": {},
     "output_type": "display_data"
    }
   ],
   "source": [
    "sns.distplot(train_set[\"Price\"])\n",
    "plt.show()"
   ]
  },
  {
   "cell_type": "code",
   "execution_count": 11,
   "metadata": {},
   "outputs": [
    {
     "data": {
      "image/png": "[encoded data removed]",
      "text/plain": [
       "<Figure size 360x360 with 2 Axes>"
      ]
     },
     "metadata": {},
     "output_type": "display_data"
    },
    {
     "data": {
      "text/html": [
       "<div>\n",
       "<style scoped>\n",
       "    .dataframe tbody tr th:only-of-type {\n",
       "        vertical-align: middle;\n",
       "    }\n",
       "\n",
       "    .dataframe tbody tr th {\n",
       "        vertical-align: top;\n",
       "    }\n",
       "\n",
       "    .dataframe thead th {\n",
       "        text-align: right;\n",
       "    }\n",
       "</style>\n",
       "<table border=\"1\" class=\"dataframe\">\n",
       "  <thead>\n",
       "    <tr style=\"text-align: right;\">\n",
       "      <th></th>\n",
       "      <th>Rooms</th>\n",
       "      <th>Price</th>\n",
       "      <th>Distance</th>\n",
       "      <th>Postcode</th>\n",
       "      <th>Bedroom2</th>\n",
       "      <th>Bathroom</th>\n",
       "      <th>Car</th>\n",
       "      <th>Landsize</th>\n",
       "      <th>BuildingArea</th>\n",
       "      <th>YearBuilt</th>\n",
       "      <th>Lattitude</th>\n",
       "      <th>Longtitude</th>\n",
       "      <th>Propertycount</th>\n",
       "    </tr>\n",
       "  </thead>\n",
       "  <tbody>\n",
       "    <tr>\n",
       "      <th>Rooms</th>\n",
       "      <td>1.000000</td>\n",
       "      <td>0.494941</td>\n",
       "      <td>0.294624</td>\n",
       "      <td>0.063773</td>\n",
       "      <td>0.922249</td>\n",
       "      <td>0.584064</td>\n",
       "      <td>0.405983</td>\n",
       "      <td>0.060655</td>\n",
       "      <td>0.103858</td>\n",
       "      <td>-0.055537</td>\n",
       "      <td>-0.000317</td>\n",
       "      <td>0.082731</td>\n",
       "      <td>-0.082143</td>\n",
       "    </tr>\n",
       "    <tr>\n",
       "      <th>Price</th>\n",
       "      <td>0.494941</td>\n",
       "      <td>1.000000</td>\n",
       "      <td>-0.167654</td>\n",
       "      <td>0.093127</td>\n",
       "      <td>0.460544</td>\n",
       "      <td>0.459137</td>\n",
       "      <td>0.227902</td>\n",
       "      <td>0.048182</td>\n",
       "      <td>0.061963</td>\n",
       "      <td>-0.352157</td>\n",
       "      <td>-0.206769</td>\n",
       "      <td>0.199303</td>\n",
       "      <td>-0.038241</td>\n",
       "    </tr>\n",
       "    <tr>\n",
       "      <th>Distance</th>\n",
       "      <td>0.294624</td>\n",
       "      <td>-0.167654</td>\n",
       "      <td>1.000000</td>\n",
       "      <td>0.458845</td>\n",
       "      <td>0.290244</td>\n",
       "      <td>0.136482</td>\n",
       "      <td>0.278652</td>\n",
       "      <td>0.077259</td>\n",
       "      <td>0.128979</td>\n",
       "      <td>0.260197</td>\n",
       "      <td>-0.140578</td>\n",
       "      <td>0.222607</td>\n",
       "      <td>-0.050699</td>\n",
       "    </tr>\n",
       "    <tr>\n",
       "      <th>Postcode</th>\n",
       "      <td>0.063773</td>\n",
       "      <td>0.093127</td>\n",
       "      <td>0.458845</td>\n",
       "      <td>1.000000</td>\n",
       "      <td>0.066594</td>\n",
       "      <td>0.119216</td>\n",
       "      <td>0.056869</td>\n",
       "      <td>0.037189</td>\n",
       "      <td>0.069733</td>\n",
       "      <td>0.060063</td>\n",
       "      <td>-0.407233</td>\n",
       "      <td>0.435858</td>\n",
       "      <td>0.067538</td>\n",
       "    </tr>\n",
       "    <tr>\n",
       "      <th>Bedroom2</th>\n",
       "      <td>0.922249</td>\n",
       "      <td>0.460544</td>\n",
       "      <td>0.290244</td>\n",
       "      <td>0.066594</td>\n",
       "      <td>1.000000</td>\n",
       "      <td>0.574729</td>\n",
       "      <td>0.396654</td>\n",
       "      <td>0.059799</td>\n",
       "      <td>0.102010</td>\n",
       "      <td>-0.036264</td>\n",
       "      <td>0.002027</td>\n",
       "      <td>0.082260</td>\n",
       "      <td>-0.082444</td>\n",
       "    </tr>\n",
       "    <tr>\n",
       "      <th>Bathroom</th>\n",
       "      <td>0.584064</td>\n",
       "      <td>0.459137</td>\n",
       "      <td>0.136482</td>\n",
       "      <td>0.119216</td>\n",
       "      <td>0.574729</td>\n",
       "      <td>1.000000</td>\n",
       "      <td>0.321491</td>\n",
       "      <td>0.052352</td>\n",
       "      <td>0.090828</td>\n",
       "      <td>0.167678</td>\n",
       "      <td>-0.067542</td>\n",
       "      <td>0.109406</td>\n",
       "      <td>-0.053682</td>\n",
       "    </tr>\n",
       "    <tr>\n",
       "      <th>Car</th>\n",
       "      <td>0.405983</td>\n",
       "      <td>0.227902</td>\n",
       "      <td>0.278652</td>\n",
       "      <td>0.056869</td>\n",
       "      <td>0.396654</td>\n",
       "      <td>0.321491</td>\n",
       "      <td>1.000000</td>\n",
       "      <td>0.084753</td>\n",
       "      <td>0.098678</td>\n",
       "      <td>0.123946</td>\n",
       "      <td>-0.024741</td>\n",
       "      <td>0.057767</td>\n",
       "      <td>-0.018323</td>\n",
       "    </tr>\n",
       "    <tr>\n",
       "      <th>Landsize</th>\n",
       "      <td>0.060655</td>\n",
       "      <td>0.048182</td>\n",
       "      <td>0.077259</td>\n",
       "      <td>0.037189</td>\n",
       "      <td>0.059799</td>\n",
       "      <td>0.052352</td>\n",
       "      <td>0.084753</td>\n",
       "      <td>1.000000</td>\n",
       "      <td>0.580810</td>\n",
       "      <td>0.034521</td>\n",
       "      <td>0.037345</td>\n",
       "      <td>-0.000988</td>\n",
       "      <td>-0.003640</td>\n",
       "    </tr>\n",
       "    <tr>\n",
       "      <th>BuildingArea</th>\n",
       "      <td>0.103858</td>\n",
       "      <td>0.061963</td>\n",
       "      <td>0.128979</td>\n",
       "      <td>0.069733</td>\n",
       "      <td>0.102010</td>\n",
       "      <td>0.090828</td>\n",
       "      <td>0.098678</td>\n",
       "      <td>0.580810</td>\n",
       "      <td>1.000000</td>\n",
       "      <td>0.017180</td>\n",
       "      <td>0.072925</td>\n",
       "      <td>-0.053331</td>\n",
       "      <td>-0.034084</td>\n",
       "    </tr>\n",
       "    <tr>\n",
       "      <th>YearBuilt</th>\n",
       "      <td>-0.055537</td>\n",
       "      <td>-0.352157</td>\n",
       "      <td>0.260197</td>\n",
       "      <td>0.060063</td>\n",
       "      <td>-0.036264</td>\n",
       "      <td>0.167678</td>\n",
       "      <td>0.123946</td>\n",
       "      <td>0.034521</td>\n",
       "      <td>0.017180</td>\n",
       "      <td>1.000000</td>\n",
       "      <td>0.044571</td>\n",
       "      <td>-0.010534</td>\n",
       "      <td>0.008282</td>\n",
       "    </tr>\n",
       "    <tr>\n",
       "      <th>Lattitude</th>\n",
       "      <td>-0.000317</td>\n",
       "      <td>-0.206769</td>\n",
       "      <td>-0.140578</td>\n",
       "      <td>-0.407233</td>\n",
       "      <td>0.002027</td>\n",
       "      <td>-0.067542</td>\n",
       "      <td>-0.024741</td>\n",
       "      <td>0.037345</td>\n",
       "      <td>0.072925</td>\n",
       "      <td>0.044571</td>\n",
       "      <td>1.000000</td>\n",
       "      <td>-0.364389</td>\n",
       "      <td>0.047709</td>\n",
       "    </tr>\n",
       "    <tr>\n",
       "      <th>Longtitude</th>\n",
       "      <td>0.082731</td>\n",
       "      <td>0.199303</td>\n",
       "      <td>0.222607</td>\n",
       "      <td>0.435858</td>\n",
       "      <td>0.082260</td>\n",
       "      <td>0.109406</td>\n",
       "      <td>0.057767</td>\n",
       "      <td>-0.000988</td>\n",
       "      <td>-0.053331</td>\n",
       "      <td>-0.010534</td>\n",
       "      <td>-0.364389</td>\n",
       "      <td>1.000000</td>\n",
       "      <td>0.060440</td>\n",
       "    </tr>\n",
       "    <tr>\n",
       "      <th>Propertycount</th>\n",
       "      <td>-0.082143</td>\n",
       "      <td>-0.038241</td>\n",
       "      <td>-0.050699</td>\n",
       "      <td>0.067538</td>\n",
       "      <td>-0.082444</td>\n",
       "      <td>-0.053682</td>\n",
       "      <td>-0.018323</td>\n",
       "      <td>-0.003640</td>\n",
       "      <td>-0.034084</td>\n",
       "      <td>0.008282</td>\n",
       "      <td>0.047709</td>\n",
       "      <td>0.060440</td>\n",
       "      <td>1.000000</td>\n",
       "    </tr>\n",
       "  </tbody>\n",
       "</table>\n",
       "</div>"
      ],
      "text/plain": [
       "                  Rooms     Price  Distance  Postcode  Bedroom2  Bathroom  \\\n",
       "Rooms          1.000000  0.494941  0.294624  0.063773  0.922249  0.584064   \n",
       "Price          0.494941  1.000000 -0.167654  0.093127  0.460544  0.459137   \n",
       "Distance       0.294624 -0.167654  1.000000  0.458845  0.290244  0.136482   \n",
       "Postcode       0.063773  0.093127  0.458845  1.000000  0.066594  0.119216   \n",
       "Bedroom2       0.922249  0.460544  0.290244  0.066594  1.000000  0.574729   \n",
       "Bathroom       0.584064  0.459137  0.136482  0.119216  0.574729  1.000000   \n",
       "Car            0.405983  0.227902  0.278652  0.056869  0.396654  0.321491   \n",
       "Landsize       0.060655  0.048182  0.077259  0.037189  0.059799  0.052352   \n",
       "BuildingArea   0.103858  0.061963  0.128979  0.069733  0.102010  0.090828   \n",
       "YearBuilt     -0.055537 -0.352157  0.260197  0.060063 -0.036264  0.167678   \n",
       "Lattitude     -0.000317 -0.206769 -0.140578 -0.407233  0.002027 -0.067542   \n",
       "Longtitude     0.082731  0.199303  0.222607  0.435858  0.082260  0.109406   \n",
       "Propertycount -0.082143 -0.038241 -0.050699  0.067538 -0.082444 -0.053682   \n",
       "\n",
       "                    Car  Landsize  BuildingArea  YearBuilt  Lattitude  \\\n",
       "Rooms          0.405983  0.060655      0.103858  -0.055537  -0.000317   \n",
       "Price          0.227902  0.048182      0.061963  -0.352157  -0.206769   \n",
       "Distance       0.278652  0.077259      0.128979   0.260197  -0.140578   \n",
       "Postcode       0.056869  0.037189      0.069733   0.060063  -0.407233   \n",
       "Bedroom2       0.396654  0.059799      0.102010  -0.036264   0.002027   \n",
       "Bathroom       0.321491  0.052352      0.090828   0.167678  -0.067542   \n",
       "Car            1.000000  0.084753      0.098678   0.123946  -0.024741   \n",
       "Landsize       0.084753  1.000000      0.580810   0.034521   0.037345   \n",
       "BuildingArea   0.098678  0.580810      1.000000   0.017180   0.072925   \n",
       "YearBuilt      0.123946  0.034521      0.017180   1.000000   0.044571   \n",
       "Lattitude     -0.024741  0.037345      0.072925   0.044571   1.000000   \n",
       "Longtitude     0.057767 -0.000988     -0.053331  -0.010534  -0.364389   \n",
       "Propertycount -0.018323 -0.003640     -0.034084   0.008282   0.047709   \n",
       "\n",
       "               Longtitude  Propertycount  \n",
       "Rooms            0.082731      -0.082143  \n",
       "Price            0.199303      -0.038241  \n",
       "Distance         0.222607      -0.050699  \n",
       "Postcode         0.435858       0.067538  \n",
       "Bedroom2         0.082260      -0.082444  \n",
       "Bathroom         0.109406      -0.053682  \n",
       "Car              0.057767      -0.018323  \n",
       "Landsize        -0.000988      -0.003640  \n",
       "BuildingArea    -0.053331      -0.034084  \n",
       "YearBuilt       -0.010534       0.008282  \n",
       "Lattitude       -0.364389       0.047709  \n",
       "Longtitude       1.000000       0.060440  \n",
       "Propertycount    0.060440       1.000000  "
      ]
     },
     "execution_count": 11,
     "metadata": {},
     "output_type": "execute_result"
    }
   ],
   "source": [
    "fig, ax = plt.subplots(figsize=(5, 5))\n",
    "correlation = train_set.corr()\n",
    "sns.heatmap(correlation, vmax=.8, square=True)\n",
    "plt.show()\n",
    "correlation"
   ]
  },
  {
   "cell_type": "markdown",
   "metadata": {},
   "source": [
    "### Data cleaning\n",
    "\n",
    "What to do with data with missing values\n",
    "* Option 1: Remove rows\n",
    "* Option 2: Remove columns\n",
    "* Option 3: Impute missing values"
   ]
  },
  {
   "cell_type": "code",
   "execution_count": 12,
   "metadata": {},
   "outputs": [],
   "source": [
    "housing = train_set.drop(\"Price\", axis=1) # drop labels for training set\n",
    "housing_labels = train_set[\"Price\"].copy()"
   ]
  },
  {
   "cell_type": "code",
   "execution_count": 13,
   "metadata": {},
   "outputs": [
    {
     "data": {
      "text/plain": [
       "\"land = pd.DataFrame(train_set.groupby('Suburb', as_index=False)['Landsize'].mean())\\nsub = land['Suburb']\\nla = land['Landsize']\\nlandsize_dict = dict(zip(sub, la))\""
      ]
     },
     "execution_count": 13,
     "metadata": {},
     "output_type": "execute_result"
    }
   ],
   "source": [
    "#We will impute the missing values\n",
    "\n",
    "'''\n",
    "Year Built --> com més gran sigui Landsize, més antic serà (i al revès)\n",
    "- Tractar NaN yearbuilt: donar valor de la mitjana dels N casos amb major Landsize\n",
    "- Tractar Nan LandSize considerant el suburbi (mean)\n",
    "Buildingarea --> com més gran sigui Landsize, més gran serà buildingarea\n",
    "\n",
    "PropertyCount --> com més Landsize, menor serà el Propertycount\n",
    "\n",
    "Quantes més habitacions tingui, major serà LandSize i BuildingArea\n",
    "'''\n",
    "'''land = pd.DataFrame(train_set.groupby('Suburb', as_index=False)['Landsize'].mean())\n",
    "sub = land['Suburb']\n",
    "la = land['Landsize']\n",
    "landsize_dict = dict(zip(sub, la))'''"
   ]
  },
  {
   "cell_type": "code",
   "execution_count": 14,
   "metadata": {},
   "outputs": [],
   "source": [
    "#numerical Nan\n",
    "def numerical_nan(data):\n",
    "    data = data.fillna(data.mean())\n",
    "    return data"
   ]
  },
  {
   "cell_type": "code",
   "execution_count": 15,
   "metadata": {},
   "outputs": [],
   "source": [
    "#outliers\n",
    "\n",
    "def impute_outliers(data):\n",
    "    columns = list(data.columns)\n",
    "    for col in columns:\n",
    "        quan_ba_low = data[col].quantile(0.03)\n",
    "        quan_ba_high = data[col].quantile(0.97)\n",
    "\n",
    "        maximum_in_quantile = data[col].quantile(0.96)\n",
    "        minimum_in_quantile = data[col].quantile(0.04)\n",
    "    \n",
    "        data.loc[data[col] < quan_ba_low,col] = minimum_in_quantile\n",
    "        data.loc[data[col] > quan_ba_high] = maximum_in_quantile\n",
    "    return data"
   ]
  },
  {
   "cell_type": "markdown",
   "metadata": {},
   "source": [
    "### Pipeline"
   ]
  },
  {
   "cell_type": "code",
   "execution_count": 16,
   "metadata": {},
   "outputs": [],
   "source": [
    "from sklearn.pipeline import Pipeline\n",
    "from sklearn.preprocessing import StandardScaler\n",
    "from sklearn.preprocessing import FunctionTransformer\n",
    "from sklearn.impute import SimpleImputer\n",
    "from sklearn.preprocessing import OneHotEncoder\n",
    "\n",
    "#after nan, we could sum some features\n",
    "numeric_pipeline = Pipeline([\n",
    "        ('numericalNan',FunctionTransformer(func = numerical_nan,validate=False)),\n",
    "        ('std_scaler', StandardScaler())\n",
    "        ])\n",
    "\n",
    "categorical_pipeline = Pipeline([\n",
    "    ('one_hot_encoder', OneHotEncoder(handle_unknown='ignore'))\n",
    "    ])"
   ]
  },
  {
   "cell_type": "code",
   "execution_count": 17,
   "metadata": {},
   "outputs": [],
   "source": [
    "from sklearn.compose import ColumnTransformer\n",
    "num_attribs0 = ['Landsize', 'BuildingArea', 'YearBuilt', 'Car', 'Distance', 'Propertycount', 'Rooms', 'Bedroom2', 'Bathroom']\n",
    "cat_attribs = [\"Type\", \"Regionname\"]\n",
    "full_pipeline = ColumnTransformer([\n",
    "        (\"num\", numeric_pipeline, num_attribs0),\n",
    "        (\"cat\", categorical_pipeline, cat_attribs),\n",
    "    ])\n",
    "\n",
    "\n",
    "\n",
    "housing_prepared = full_pipeline.fit_transform(housing)"
   ]
  },
  {
   "cell_type": "code",
   "execution_count": 18,
   "metadata": {},
   "outputs": [
    {
     "name": "stdout",
     "output_type": "stream",
     "text": [
      "<class 'pandas.core.frame.DataFrame'>\n",
      "(5432, 20)\n"
     ]
    }
   ],
   "source": [
    "print(type(housing))\n",
    "print(housing_prepared.shape)"
   ]
  },
  {
   "cell_type": "markdown",
   "metadata": {},
   "source": [
    "### Select and train a model"
   ]
  },
  {
   "cell_type": "code",
   "execution_count": 19,
   "metadata": {},
   "outputs": [],
   "source": [
    "from sklearn.metrics import mean_squared_error"
   ]
  },
  {
   "cell_type": "code",
   "execution_count": 20,
   "metadata": {},
   "outputs": [
    {
     "data": {
      "text/plain": [
       "KNeighborsRegressor(n_neighbors=3)"
      ]
     },
     "execution_count": 20,
     "metadata": {},
     "output_type": "execute_result"
    }
   ],
   "source": [
    "#Neighbors\n",
    "\n",
    "from sklearn import neighbors\n",
    "\n",
    "n_neighbors = 3 # you can modify this paramenter (ONLY THIS ONE!!!)\n",
    "\n",
    "knn_reg = neighbors.KNeighborsRegressor(n_neighbors=n_neighbors)\n",
    "## fit the model\n",
    "knn_reg.fit(housing_prepared, housing_labels)"
   ]
  },
  {
   "cell_type": "code",
   "execution_count": 21,
   "metadata": {},
   "outputs": [
    {
     "data": {
      "text/plain": [
       "LinearRegression()"
      ]
     },
     "execution_count": 21,
     "metadata": {},
     "output_type": "execute_result"
    }
   ],
   "source": [
    "#Regression\n",
    "from sklearn.linear_model import LinearRegression\n",
    "\n",
    "lin_reg = LinearRegression()\n",
    "## fit the model\n",
    "lin_reg.fit(housing_prepared, housing_labels)"
   ]
  },
  {
   "cell_type": "code",
   "execution_count": 22,
   "metadata": {},
   "outputs": [
    {
     "data": {
      "text/plain": [
       "DecisionTreeRegressor(random_state=42)"
      ]
     },
     "execution_count": 22,
     "metadata": {},
     "output_type": "execute_result"
    }
   ],
   "source": [
    "#Decision tree\n",
    "from sklearn.tree import DecisionTreeRegressor\n",
    "\n",
    "tree_reg = DecisionTreeRegressor(random_state=42)\n",
    "tree_reg.fit(housing_prepared, housing_labels)"
   ]
  },
  {
   "cell_type": "code",
   "execution_count": 23,
   "metadata": {},
   "outputs": [
    {
     "data": {
      "text/plain": [
       "666241.7562898597"
      ]
     },
     "execution_count": 23,
     "metadata": {},
     "output_type": "execute_result"
    }
   ],
   "source": [
    "#SVM\n",
    "from sklearn.svm import SVR\n",
    "\n",
    "svm_reg = SVR(kernel=\"linear\")\n",
    "svm_reg.fit(housing_prepared, housing_labels)\n",
    "housing_predictions = svm_reg.predict(housing_prepared)\n",
    "\n",
    "svm_mse = mean_squared_error(housing_labels, housing_predictions)\n",
    "svm_rmse = np.sqrt(svm_mse)\n",
    "svm_rmse"
   ]
  },
  {
   "cell_type": "code",
   "execution_count": 24,
   "metadata": {},
   "outputs": [
    {
     "data": {
      "text/plain": [
       "RandomForestRegressor(n_estimators=20, random_state=42)"
      ]
     },
     "execution_count": 24,
     "metadata": {},
     "output_type": "execute_result"
    }
   ],
   "source": [
    "#RandomForest\n",
    "from sklearn.ensemble import RandomForestRegressor\n",
    "\n",
    "forest_reg = RandomForestRegressor(n_estimators=20, random_state=42)\n",
    "forest_reg.fit(housing_prepared, housing_labels)"
   ]
  },
  {
   "cell_type": "markdown",
   "metadata": {},
   "source": [
    "### Cross validation"
   ]
  },
  {
   "cell_type": "code",
   "execution_count": 25,
   "metadata": {},
   "outputs": [
    {
     "name": "stdout",
     "output_type": "stream",
     "text": [
      "---- lin_reg ----\n",
      "Mean: 433322.6304546363\n",
      "Standard deviation: 57143.75471130459\n",
      "---- Decision Tree ----\n",
      "Mean: 428283.6066828345\n",
      "Standard deviation: 37521.12365040957\n",
      "---- KNN-Regressor ----\n",
      "Mean: 402127.2952386256\n",
      "Standard deviation: 42014.58961992513\n",
      "---- Random Forest ----\n",
      "Mean: 314798.39880486694\n",
      "Standard deviation: 30311.527641005785\n",
      "---- SVM Regressor ----\n",
      "Mean: 665289.4962439399\n",
      "Standard deviation: 43746.48692252389\n"
     ]
    }
   ],
   "source": [
    "from sklearn.model_selection import cross_val_score\n",
    "\n",
    "def display_scores(scores,model_name = None):\n",
    "    if(model_name):\n",
    "        print(\"----\",model_name,\"----\")\n",
    "    print(\"Mean:\", scores.mean())\n",
    "    print(\"Standard deviation:\", scores.std())\n",
    "\n",
    "models = [(lin_reg,\"lin_reg\"),\n",
    "          (tree_reg,\"Decision Tree\"),\n",
    "          (knn_reg,\"KNN-Regressor\"),\n",
    "          (forest_reg,'Random Forest'),\n",
    "          (svm_reg,'SVM Regressor')]\n",
    "\n",
    "for model in models:\n",
    "    scores = cross_val_score(model[0], housing_prepared, housing_labels, scoring=\"neg_root_mean_squared_error\", cv=10)\n",
    "    display_scores(-scores, model[1])"
   ]
  },
  {
   "cell_type": "code",
   "execution_count": 26,
   "metadata": {},
   "outputs": [
    {
     "data": {
      "text/plain": [
       "GridSearchCV(cv=5, estimator=RandomForestRegressor(random_state=42),\n",
       "             param_grid=[{'bootstrap': [True, False],\n",
       "                          'max_depth': [3, 5, 7, 10, 20],\n",
       "                          'max_features': [2, 4, 6, 8, 10, 12],\n",
       "                          'n_estimators': [3, 10, 15, 20, 30, 40, 50, 60, 70,\n",
       "                                           80, 90, 100]}],\n",
       "             return_train_score=True, scoring='neg_root_mean_squared_error')"
      ]
     },
     "execution_count": 26,
     "metadata": {},
     "output_type": "execute_result"
    }
   ],
   "source": [
    "#random forest seems to be the best\n",
    "\n",
    "from sklearn.model_selection import GridSearchCV\n",
    "\n",
    "param_grid = [\n",
    "    # try 12 (3×4) combinations of hyperparameters\n",
    "    {'n_estimators': [3, 10, 15, 20, 30, 40, 50, 60, 70, 80, 90, 100],\n",
    "     'max_features': [2, 4, 6, 8, 10, 12],\n",
    "     'max_depth':[3,5,7,10,20],\n",
    "     'bootstrap': [True, False]\n",
    "    }\n",
    "  ]\n",
    "\n",
    "forest_reg = RandomForestRegressor(random_state=42)\n",
    "grid_search = GridSearchCV(forest_reg, param_grid, cv=5,\n",
    "                           scoring='neg_root_mean_squared_error',\n",
    "                           return_train_score=True)\n",
    "grid_search.fit(housing_prepared, housing_labels)"
   ]
  },
  {
   "cell_type": "code",
   "execution_count": 27,
   "metadata": {},
   "outputs": [
    {
     "name": "stdout",
     "output_type": "stream",
     "text": [
      "the best parameters are:\n",
      "{'bootstrap': True, 'max_depth': 20, 'max_features': 12, 'n_estimators': 70}\n"
     ]
    }
   ],
   "source": [
    "print(\"the best parameters are:\")\n",
    "print(grid_search.best_params_)"
   ]
  },
  {
   "cell_type": "code",
   "execution_count": 28,
   "metadata": {},
   "outputs": [
    {
     "name": "stdout",
     "output_type": "stream",
     "text": [
      "the best trained model:\n"
     ]
    },
    {
     "data": {
      "text/plain": [
       "RandomForestRegressor(max_depth=20, max_features=12, n_estimators=70,\n",
       "                      random_state=42)"
      ]
     },
     "execution_count": 28,
     "metadata": {},
     "output_type": "execute_result"
    }
   ],
   "source": [
    "print(\"the best trained model:\")\n",
    "grid_search.best_estimator_"
   ]
  },
  {
   "cell_type": "markdown",
   "metadata": {},
   "source": [
    "### Final model"
   ]
  },
  {
   "cell_type": "code",
   "execution_count": 29,
   "metadata": {},
   "outputs": [],
   "source": [
    "final_model = grid_search.best_estimator_\n",
    "\n",
    "\n",
    "X_test = test_set\n",
    "\n",
    "X_test_prepared = full_pipeline.transform(X_test)\n",
    "final_predictions = final_model.predict(X_test_prepared)\n",
    "\n",
    "df_output = pd.DataFrame(final_predictions)\n",
    "df_output = df_output.reset_index()\n",
    "df_output.columns = ['index','Price']\n",
    "\n",
    "df_output.to_csv('output/session1/problem_submission.csv',index=False)"
   ]
  },
  {
   "cell_type": "code",
   "execution_count": 30,
   "metadata": {},
   "outputs": [
    {
     "name": "stdout",
     "output_type": "stream",
     "text": [
      "[1.09165327e-01 4.88992236e-02 4.74937548e-02 1.88585599e-02\n",
      " 1.67010043e-01 4.93774589e-02 1.17041151e-01 5.82435518e-02\n",
      " 6.04828052e-02 3.55291624e-02 3.32557911e-03 5.95669011e-02\n",
      " 1.26485074e-02 5.06765866e-05 3.96640731e-03 5.61749594e-05\n",
      " 2.71081993e-03 1.98124148e-01 7.22217448e-03 2.27574309e-04]\n",
      "1. feature Suburb (0.198124)\n",
      "2. feature Address (0.167010)\n",
      "3. feature Rooms (0.117041)\n",
      "4. feature Type (0.109165)\n",
      "5. feature Method (0.060483)\n",
      "6. feature SellerG (0.059567)\n",
      "7. feature Date (0.058244)\n",
      "8. feature Distance (0.049377)\n",
      "9. feature Postcode (0.048899)\n",
      "10. feature Bedroom2 (0.047494)\n",
      "11. feature Bathroom (0.035529)\n",
      "12. feature Car (0.018859)\n",
      "13. feature Landsize (0.012649)\n",
      "14. feature BuildingArea (0.007222)\n",
      "15. feature YearBuilt (0.003966)\n",
      "16. feature CouncilArea (0.003326)\n",
      "17. feature Lattitude (0.002711)\n",
      "18. feature Longtitude (0.000228)\n",
      "19. feature Regionname (0.000056)\n",
      "20. feature Propertycount (0.000051)\n"
     ]
    }
   ],
   "source": [
    "feature_importance = final_model.feature_importances_\n",
    "print(feature_importance)\n",
    "indices = np.argsort(feature_importance)[::-1]\n",
    "for f in range(X_test_prepared.shape[1]):\n",
    "    print(\"%d. feature %s (%f)\" % (f + 1, X_test.columns[f], feature_importance[indices[f]]))"
   ]
  },
  {
   "cell_type": "markdown",
   "metadata": {},
   "source": [
    "### Model justification"
   ]
  },
  {
   "cell_type": "markdown",
   "metadata": {},
   "source": [
    "De que tracta?\n",
    "\n",
    "El seu predecesor: decision tree, que té de dolent\n",
    "\n",
    "Que te de bo?\n",
    "https://towardsdatascience.com/a-quick-and-dirty-guide-to-random-forest-regression-52ca0af157f8\n",
    "\n",
    "https://towardsdatascience.com/predicting-housing-prices-using-a-scikit-learns-random-forest-model-e736b59d56c5\n"
   ]
  },
  {
   "cell_type": "markdown",
   "metadata": {},
   "source": []
  }
 ],
 "metadata": {
  "kernelspec": {
   "display_name": "Python 3",
   "language": "python",
   "name": "python3"
  },
  "language_info": {
   "codemirror_mode": {
    "name": "ipython",
    "version": 3
   },
   "file_extension": ".py",
   "mimetype": "text/x-python",
   "name": "python",
   "nbconvert_exporter": "python",
   "pygments_lexer": "ipython3",
   "version": "3.8.3"
  }
 },
 "nbformat": 4,
 "nbformat_minor": 4
}
