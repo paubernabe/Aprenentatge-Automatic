{
 "cells": [
  {
   "cell_type": "markdown",
   "metadata": {},
   "source": [
    "# Household dust data"
   ]
  },
  {
   "cell_type": "markdown",
   "metadata": {},
   "source": [
    "A problem in linear regression, using the `homes.Rdata` dataset, extracted from the [Homes_USA](http://figshare.com/articles/1000homes/1270900) repository of data analyzed in the paper [Barberan et al. (2015), _\"The ecology of microscopic life in household dust\",_](https://royalsocietypublishing.org/doi/full/10.1098/rspb.2015.1139) Proceedings of the Royal Society B, Biological Sciences Volume 282, Issue 1814.\n",
    "\t\n",
    "The data are dust samples from the ledges above doorways from $n=1,059$ homes (after removing samples with missing data) in the continental US. Bioinformatics processing detects the presence or absence of $763$ species (technically operational taxonomic units) of fungi. The response is the log of the number of fungi species present in the sample, which is a measure of species richness. The objective is to determine which factors influence a home's species richness. For each home, eight covariates are included in this example: \n",
    "\n",
    "01. `long`:     Longitude,\n",
    "02. `lat`:      Latitude,\n",
    "03. `temp`:     Temperature,\n",
    "04. `precip`:   Precipitation,\n",
    "05. `NPP`:      Net Primary Productivity (NPP) (See the  [Appendix](https://www.pnas.org/content/pnas/suppl/2015/04/15/1420815112.DCSupplemental/pnas.1420815112.sapp.pdf)),\n",
    "06. `elev`:     Elevation,\n",
    "07. `house`:    Single-family home (binary indicator),\n",
    "08. `bedrooms`: Number of bedrooms."
   ]
  },
  {
   "cell_type": "code",
   "execution_count": null,
   "metadata": {},
   "outputs": [],
   "source": [
    "# Load data (there is a warning about NAs. It's OK, later on we remove them)\n",
    "load(\"homes.RData\")\n",
    "\n",
    "lat      <- homes[,4]\n",
    "long     <- homes[,5]\n",
    "temp     <- homes[,6]\n",
    "precip   <- homes[,7]\n",
    "NPP      <- homes[,8]\n",
    "elev     <- homes[,9]\n",
    "house    <- ifelse(homes[,10]==\"One-family house detached from any other house\",1,0) # Convert to an indicator\n",
    "bedrooms <- as.numeric(homes[,11])"
   ]
  },
  {
   "cell_type": "code",
   "execution_count": null,
   "metadata": {},
   "outputs": [],
   "source": [
    "city     <- homes[,2]\n",
    "state    <- homes[,3]\n",
    "\n",
    "OTU      <- as.matrix(OTU)\n",
    "nspecies <- rowSums(OTU>0)\n",
    "y        <- log(nspecies)\n",
    "X        <- cbind(long,lat,temp,precip,NPP,elev,house,bedrooms)\n",
    "names    <- c(\"Longitude\",\"Latitude\",\"Temperature\",\"Precipitation\",\"NPP\",\"Elevation\",\"Single-family home\",\n",
    "                \"Number of bedrooms\")"
   ]
  },
  {
   "cell_type": "code",
   "execution_count": null,
   "metadata": {},
   "outputs": [],
   "source": [
    "# Remove observations with missing data\n",
    "\n",
    "junk     <- is.na(rowSums(X))\n",
    "y        <- y[!junk]\n",
    "X        <- X[!junk,]\n",
    "city     <- city[!junk]\n",
    "state    <- state[!junk]"
   ]
  },
  {
   "cell_type": "code",
   "execution_count": null,
   "metadata": {},
   "outputs": [],
   "source": [
    "# Standardize the covariates\n",
    "\n",
    "X<- as.matrix(scale(X))\n",
    "X0<-X\n",
    "X0.centers<-attr(X0,\"scaled:center\")\n",
    "X0.scales<-attr(X0,\"scaled:scale\")\n",
    "attr(X,\"scaled:center\")<-NULL\n",
    "attr(X,\"scaled:scale\")<-NULL\n",
    "str(X0.centers)\n",
    "str(X0.scales)"
   ]
  },
  {
   "cell_type": "code",
   "execution_count": null,
   "metadata": {},
   "outputs": [],
   "source": [
    "str(X)\n",
    "str(y)"
   ]
  },
  {
   "cell_type": "markdown",
   "metadata": {},
   "source": [
    "## Plot the sample locations"
   ]
  },
  {
   "cell_type": "code",
   "execution_count": null,
   "metadata": {},
   "outputs": [],
   "source": [
    "#install.packages(\"maps\",dependencies=TRUE,repos= \"https://cloud.r-project.org\")\n",
    "require(maps)"
   ]
  },
  {
   "cell_type": "code",
   "execution_count": null,
   "metadata": {
    "scrolled": true
   },
   "outputs": [],
   "source": [
    "options(repr.plot.width=6, repr.plot.height=5)\n",
    "map(\"state\")\n",
    "points(homes[,5],homes[,4],pch=19,cex=.5)\n",
    "title(\"Sample locations\")"
   ]
  },
  {
   "cell_type": "markdown",
   "metadata": {},
   "source": [
    "# OLS"
   ]
  },
  {
   "cell_type": "code",
   "execution_count": null,
   "metadata": {},
   "outputs": [],
   "source": [
    "# Overwrite the original \"homes\" data.frame\n",
    "# For lm() we need a unique data.frame\n",
    "# For glmnet() X and y\n",
    "homes<-data.frame(cbind(y,X))\n",
    "str(homes)"
   ]
  },
  {
   "cell_type": "code",
   "execution_count": null,
   "metadata": {},
   "outputs": [],
   "source": [
    "homes.ols.01<-lm(y~.,data=homes)\n",
    "summary(homes.ols.01)"
   ]
  },
  {
   "cell_type": "code",
   "execution_count": null,
   "metadata": {},
   "outputs": [],
   "source": [
    "anova(homes.ols.01)"
   ]
  },
  {
   "cell_type": "code",
   "execution_count": null,
   "metadata": {},
   "outputs": [],
   "source": [
    "sigma(homes.ols.01)"
   ]
  },
  {
   "cell_type": "code",
   "execution_count": null,
   "metadata": {},
   "outputs": [],
   "source": [
    "#install.packages(\"car\",dependencies=TRUE,repos= \"https://cloud.r-project.org\")\n",
    "require(car)"
   ]
  },
  {
   "cell_type": "code",
   "execution_count": null,
   "metadata": {},
   "outputs": [],
   "source": [
    "round(vif(homes.ols.01),1)"
   ]
  },
  {
   "cell_type": "code",
   "execution_count": null,
   "metadata": {},
   "outputs": [],
   "source": [
    "homes.ols.02<-lm(y~(long+lat+temp+precip+NPP+elev+house+bedrooms)^2,data=homes)\n",
    "summary(homes.ols.02)"
   ]
  },
  {
   "cell_type": "code",
   "execution_count": null,
   "metadata": {},
   "outputs": [],
   "source": [
    "homes.ols.03<-lm(y~(long+lat+temp+precip+NPP+elev+house+bedrooms)^2\n",
    "                 +I(long^2)+I(lat^2)+I(temp^2)+I(precip^2)+I(NPP^2)+I(elev^2)\n",
    "                 +I(bedrooms^2),data=homes)\n",
    "summary(homes.ols.03)"
   ]
  },
  {
   "cell_type": "code",
   "execution_count": null,
   "metadata": {},
   "outputs": [],
   "source": [
    "anova(homes.ols.03)"
   ]
  },
  {
   "cell_type": "code",
   "execution_count": null,
   "metadata": {},
   "outputs": [],
   "source": [
    "round(vif(homes.ols.03),1)"
   ]
  },
  {
   "cell_type": "markdown",
   "metadata": {},
   "source": [
    "### Stepwise selection of predictors"
   ]
  },
  {
   "cell_type": "code",
   "execution_count": null,
   "metadata": {},
   "outputs": [],
   "source": [
    "homes.ols.04<-lm(formula = y ~ long + lat + temp + precip + NPP + elev + house + bedrooms \n",
    "                 + I(long^2) + I(precip^2) + I(NPP^2) + I(bedrooms^2) \n",
    "                 + long:NPP + lat:temp + temp:precip + temp:NPP + temp:house\n",
    "                 + temp:bedrooms + precip:NPP + NPP:bedrooms, data = homes)\n",
    "summary(homes.ols.04)"
   ]
  },
  {
   "cell_type": "code",
   "execution_count": null,
   "metadata": {},
   "outputs": [],
   "source": [
    "round(vif(homes.ols.04),1)"
   ]
  },
  {
   "cell_type": "code",
   "execution_count": null,
   "metadata": {},
   "outputs": [],
   "source": []
  }
 ],
 "metadata": {
  "kernelspec": {
   "display_name": "R",
   "language": "R",
   "name": "ir"
  },
  "language_info": {
   "codemirror_mode": "r",
   "file_extension": ".r",
   "mimetype": "text/x-r-source",
   "name": "R",
   "pygments_lexer": "r",
   "version": "4.0.3"
  }
 },
 "nbformat": 4,
 "nbformat_minor": 4
}
